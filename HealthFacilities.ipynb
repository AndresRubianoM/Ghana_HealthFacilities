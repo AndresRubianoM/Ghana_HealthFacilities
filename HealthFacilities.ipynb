{
 "cells": [
  {
   "cell_type": "markdown",
   "metadata": {},
   "source": [
    "# Ghana Health Facilities "
   ]
  },
  {
   "cell_type": "code",
   "execution_count": 13,
   "metadata": {},
   "outputs": [],
   "source": [
    "# Data libraries \n",
    "import numpy as np \n",
    "import pandas as pd\n",
    "import matplotlib.pyplot as plt\n",
    "%matplotlib inline \n",
    "import seaborn as sns \n",
    "\n",
    "# libraries for download the data \n",
    "import os \n",
    "from urllib.request import urlretrieve"
   ]
  },
  {
   "cell_type": "code",
   "execution_count": 2,
   "metadata": {},
   "outputs": [],
   "source": [
    "URL = 'https://data.gov.gh/sites/default/files/harvest_resources/HEALTH%2520FACILITIES%2520IN%2520GHANA.csv'"
   ]
  },
  {
   "cell_type": "code",
   "execution_count": 3,
   "metadata": {},
   "outputs": [
    {
     "data": {
      "text/plain": [
       "('FacilitiesHealth.csv', <http.client.HTTPMessage at 0xa191748>)"
      ]
     },
     "execution_count": 3,
     "metadata": {},
     "output_type": "execute_result"
    }
   ],
   "source": [
    "urlretrieve(URL, 'FacilitiesHealth.csv')"
   ]
  },
  {
   "cell_type": "code",
   "execution_count": 15,
   "metadata": {},
   "outputs": [],
   "source": [
    "def download_data(url = URL, filename = 'FacilitiesHealth.csv', force = False):\n",
    "    if not os.path.exists(filename):\n",
    "        urlretrieve(url, filename)\n",
    "        \n",
    "    if force == True:\n",
    "        urlretrieve(url, filename)\n",
    "        \n",
    "    data = pd.read_csv('FacilitiesHealth.csv')\n",
    "    return data \n",
    "        \n",
    "        "
   ]
  },
  {
   "cell_type": "code",
   "execution_count": 31,
   "metadata": {},
   "outputs": [
    {
     "name": "stdout",
     "output_type": "stream",
     "text": [
      "(3756, 8)\n"
     ]
    },
    {
     "data": {
      "text/html": [
       "<div>\n",
       "<style scoped>\n",
       "    .dataframe tbody tr th:only-of-type {\n",
       "        vertical-align: middle;\n",
       "    }\n",
       "\n",
       "    .dataframe tbody tr th {\n",
       "        vertical-align: top;\n",
       "    }\n",
       "\n",
       "    .dataframe thead th {\n",
       "        text-align: right;\n",
       "    }\n",
       "</style>\n",
       "<table border=\"1\" class=\"dataframe\">\n",
       "  <thead>\n",
       "    <tr style=\"text-align: right;\">\n",
       "      <th></th>\n",
       "      <th>Region</th>\n",
       "      <th>District</th>\n",
       "      <th>FacilityName</th>\n",
       "      <th>Type</th>\n",
       "      <th>Town</th>\n",
       "      <th>Ownership</th>\n",
       "      <th>Latitude</th>\n",
       "      <th>Longitude</th>\n",
       "    </tr>\n",
       "  </thead>\n",
       "  <tbody>\n",
       "    <tr>\n",
       "      <td>0</td>\n",
       "      <td>Ashanti</td>\n",
       "      <td>Offinso North</td>\n",
       "      <td>A.M.E Zion Clinic</td>\n",
       "      <td>Clinic</td>\n",
       "      <td>Afrancho</td>\n",
       "      <td>CHAG</td>\n",
       "      <td>7.40801</td>\n",
       "      <td>-1.96317</td>\n",
       "    </tr>\n",
       "    <tr>\n",
       "      <td>1</td>\n",
       "      <td>Ashanti</td>\n",
       "      <td>Bekwai Municipal</td>\n",
       "      <td>Abenkyiman Clinic</td>\n",
       "      <td>Clinic</td>\n",
       "      <td>Anwiankwanta</td>\n",
       "      <td>Private</td>\n",
       "      <td>6.46312</td>\n",
       "      <td>-1.58592</td>\n",
       "    </tr>\n",
       "    <tr>\n",
       "      <td>2</td>\n",
       "      <td>Ashanti</td>\n",
       "      <td>Adansi North</td>\n",
       "      <td>Aboabo Health Centre</td>\n",
       "      <td>Health Centre</td>\n",
       "      <td>Aboabo No 2</td>\n",
       "      <td>Government</td>\n",
       "      <td>6.22393</td>\n",
       "      <td>-1.34982</td>\n",
       "    </tr>\n",
       "    <tr>\n",
       "      <td>3</td>\n",
       "      <td>Ashanti</td>\n",
       "      <td>Afigya-Kwabre</td>\n",
       "      <td>Aboabogya Health Centre</td>\n",
       "      <td>Health Centre</td>\n",
       "      <td>Aboabogya</td>\n",
       "      <td>Government</td>\n",
       "      <td>6.84177</td>\n",
       "      <td>-1.61098</td>\n",
       "    </tr>\n",
       "    <tr>\n",
       "      <td>4</td>\n",
       "      <td>Ashanti</td>\n",
       "      <td>Kwabre</td>\n",
       "      <td>Aboaso Health Centre</td>\n",
       "      <td>Health Centre</td>\n",
       "      <td>Aboaso</td>\n",
       "      <td>Government</td>\n",
       "      <td>6.84177</td>\n",
       "      <td>-1.61098</td>\n",
       "    </tr>\n",
       "  </tbody>\n",
       "</table>\n",
       "</div>"
      ],
      "text/plain": [
       "    Region          District             FacilityName           Type  \\\n",
       "0  Ashanti     Offinso North        A.M.E Zion Clinic         Clinic   \n",
       "1  Ashanti  Bekwai Municipal        Abenkyiman Clinic         Clinic   \n",
       "2  Ashanti      Adansi North     Aboabo Health Centre  Health Centre   \n",
       "3  Ashanti     Afigya-Kwabre  Aboabogya Health Centre  Health Centre   \n",
       "4  Ashanti            Kwabre     Aboaso Health Centre  Health Centre   \n",
       "\n",
       "           Town   Ownership  Latitude  Longitude  \n",
       "0      Afrancho        CHAG   7.40801   -1.96317  \n",
       "1  Anwiankwanta     Private   6.46312   -1.58592  \n",
       "2   Aboabo No 2  Government   6.22393   -1.34982  \n",
       "3     Aboabogya  Government   6.84177   -1.61098  \n",
       "4        Aboaso  Government   6.84177   -1.61098  "
      ]
     },
     "execution_count": 31,
     "metadata": {},
     "output_type": "execute_result"
    }
   ],
   "source": [
    "data_facilities = download_data()\n",
    "print(data_facilities.shape)\n",
    "data_facilities.head()\n"
   ]
  },
  {
   "cell_type": "code",
   "execution_count": 20,
   "metadata": {},
   "outputs": [
    {
     "name": "stdout",
     "output_type": "stream",
     "text": [
      "Region 0\n",
      "District 0\n",
      "FacilityName 0\n",
      "Type 0\n",
      "Town 153\n",
      "Ownership 0\n",
      "Latitude 24\n",
      "Longitude 24\n"
     ]
    }
   ],
   "source": [
    "#looking for null data \n",
    "for col in data_facilities.columns:\n",
    "    print(col, data_facilities.loc[:,col].isnull().sum())"
   ]
  },
  {
   "cell_type": "markdown",
   "metadata": {},
   "source": [
    "In the dataset exist a few null data but still can be used so won't be erased rigth now"
   ]
  },
  {
   "cell_type": "code",
   "execution_count": 30,
   "metadata": {},
   "outputs": [
    {
     "data": {
      "text/html": [
       "<div>\n",
       "<style scoped>\n",
       "    .dataframe tbody tr th:only-of-type {\n",
       "        vertical-align: middle;\n",
       "    }\n",
       "\n",
       "    .dataframe tbody tr th {\n",
       "        vertical-align: top;\n",
       "    }\n",
       "\n",
       "    .dataframe thead th {\n",
       "        text-align: right;\n",
       "    }\n",
       "</style>\n",
       "<table border=\"1\" class=\"dataframe\">\n",
       "  <thead>\n",
       "    <tr style=\"text-align: right;\">\n",
       "      <th></th>\n",
       "      <th>Region</th>\n",
       "      <th>District</th>\n",
       "      <th>FacilityName</th>\n",
       "      <th>Type</th>\n",
       "      <th>Town</th>\n",
       "      <th>Ownership</th>\n",
       "      <th>Latitude</th>\n",
       "      <th>Longitude</th>\n",
       "    </tr>\n",
       "  </thead>\n",
       "  <tbody>\n",
       "    <tr>\n",
       "      <td>357</td>\n",
       "      <td>Ashanti</td>\n",
       "      <td>Bosome Freho</td>\n",
       "      <td>Dunkura  Health  Centre</td>\n",
       "      <td>Health Centre</td>\n",
       "      <td>Dunkura</td>\n",
       "      <td>Government</td>\n",
       "      <td>NaN</td>\n",
       "      <td>NaN</td>\n",
       "    </tr>\n",
       "    <tr>\n",
       "      <td>358</td>\n",
       "      <td>Ashanti</td>\n",
       "      <td>Bosome Freho</td>\n",
       "      <td>Yapesa St.Mary Clinic</td>\n",
       "      <td>Clinic</td>\n",
       "      <td>Yapesa</td>\n",
       "      <td>CHAG</td>\n",
       "      <td>NaN</td>\n",
       "      <td>NaN</td>\n",
       "    </tr>\n",
       "    <tr>\n",
       "      <td>596</td>\n",
       "      <td>Ashanti</td>\n",
       "      <td>Kumasi Metropolitan</td>\n",
       "      <td>Amansie Enterprise Clinic</td>\n",
       "      <td>Clinic</td>\n",
       "      <td>NaN</td>\n",
       "      <td>Private</td>\n",
       "      <td>6.41500</td>\n",
       "      <td>-1.37548</td>\n",
       "    </tr>\n",
       "    <tr>\n",
       "      <td>626</td>\n",
       "      <td>Ashanti</td>\n",
       "      <td>Kumasi Metropolitan</td>\n",
       "      <td>Restoration Clinic</td>\n",
       "      <td>Clinic</td>\n",
       "      <td>NaN</td>\n",
       "      <td>Private</td>\n",
       "      <td>6.41500</td>\n",
       "      <td>-1.37548</td>\n",
       "    </tr>\n",
       "    <tr>\n",
       "      <td>645</td>\n",
       "      <td>Ashanti</td>\n",
       "      <td>Mampong Municipal</td>\n",
       "      <td>Calvary Health Service</td>\n",
       "      <td>Clinic</td>\n",
       "      <td>NaN</td>\n",
       "      <td>Private</td>\n",
       "      <td>7.03397</td>\n",
       "      <td>-1.24294</td>\n",
       "    </tr>\n",
       "  </tbody>\n",
       "</table>\n",
       "</div>"
      ],
      "text/plain": [
       "      Region             District               FacilityName           Type  \\\n",
       "357  Ashanti         Bosome Freho    Dunkura  Health  Centre  Health Centre   \n",
       "358  Ashanti         Bosome Freho      Yapesa St.Mary Clinic         Clinic   \n",
       "596  Ashanti  Kumasi Metropolitan  Amansie Enterprise Clinic         Clinic   \n",
       "626  Ashanti  Kumasi Metropolitan         Restoration Clinic         Clinic   \n",
       "645  Ashanti    Mampong Municipal     Calvary Health Service         Clinic   \n",
       "\n",
       "        Town   Ownership  Latitude  Longitude  \n",
       "357  Dunkura  Government       NaN        NaN  \n",
       "358   Yapesa        CHAG       NaN        NaN  \n",
       "596      NaN     Private   6.41500   -1.37548  \n",
       "626      NaN     Private   6.41500   -1.37548  \n",
       "645      NaN     Private   7.03397   -1.24294  "
      ]
     },
     "execution_count": 30,
     "metadata": {},
     "output_type": "execute_result"
    }
   ],
   "source": [
    "# This are the all the rows with miss data \n",
    "rows_nullData = data_facilities.loc[data_facilities.loc[:,'Town'].isnull() | data_facilities.loc[:,'Latitude'].isnull() | data_facilities.loc[:,'Longitude'].isnull()]\n",
    "rows_nullData.head()"
   ]
  },
  {
   "cell_type": "code",
   "execution_count": 56,
   "metadata": {},
   "outputs": [
    {
     "name": "stdout",
     "output_type": "stream",
     "text": [
      "Region \n",
      " Ashanti          658\n",
      "Greater Accra    504\n",
      "Western          496\n",
      "Volta            398\n",
      "Eastern          393\n",
      "Brong Ahafo      348\n",
      "Central          299\n",
      "Northern         267\n",
      "Upper East       232\n",
      "Upper West       161\n",
      "Name: Region, dtype: int64 \n",
      "\n",
      "Type \n",
      " Clinic                             1171\n",
      "Health Centre                       786\n",
      "CHPS                                652\n",
      "Maternity Home                      369\n",
      "Hospital                            277\n",
      "RCH                                 152\n",
      "District Health Directorate          99\n",
      "District Hospital                    82\n",
      "Training Institution                 74\n",
      "Others                               31\n",
      "Polyclinic                           16\n",
      "Regional Health Directorate           9\n",
      "Regional Hospital                     9\n",
      "Municipal Health Directorate          7\n",
      "Municipal Hospital                    4\n",
      "Teaching Hospital                     3\n",
      "Psychiatric Hospital                  3\n",
      "Centre                                2\n",
      "Research Institution                  2\n",
      "Metropolitan Health Directorate       2\n",
      "clinic                                2\n",
      "Metropolitan Hospital                 1\n",
      "Municipal  Health Directorate         1\n",
      "DHD                                   1\n",
      "CPHS                                  1\n",
      "Name: Type, dtype: int64 \n",
      "\n",
      "Ownership \n",
      " Government          2210\n",
      "Private             1179\n",
      "CHAG                 257\n",
      "Quasi-Government      91\n",
      "government             6\n",
      "Islamic                4\n",
      "NGO                    2\n",
      "Maternity Home         2\n",
      "private                2\n",
      "Mission                1\n",
      "Muslim                 1\n",
      "Clinic                 1\n",
      "Name: Ownership, dtype: int64 \n",
      "\n"
     ]
    }
   ],
   "source": [
    "for col in ['Region', 'Type', 'Ownership']:\n",
    "    print(col,  '\\n', data_facilities.loc[:,col].value_counts(), '\\n')"
   ]
  },
  {
   "cell_type": "markdown",
   "metadata": {},
   "source": [
    "Exist a lot of values that only appears a few times in types and ownership, furthermore exist values that were wrote more than once but without capital letters. To correct this, firstits necesary correct the values and then merge all values that have less than 50 to facilitate the analisis BUT this is only for a rough analysis of the general health facilities in the region not a specified analysis of wich types of facilities are needed according to the population needs, to do it will be necesary information about average situation of the patients and doctors."
   ]
  },
  {
   "cell_type": "code",
   "execution_count": 67,
   "metadata": {},
   "outputs": [],
   "source": [
    "# to correct the repeated values \n",
    "data_facilities.loc[:,'Type'] = data_facilities.loc[:,'Type'].str.lower()\n",
    "data_facilities.loc[:,'Ownership'] = data_facilities.loc[:,'Ownership'].str.lower()"
   ]
  }
 ],
 "metadata": {
  "kernelspec": {
   "display_name": "Python 3",
   "language": "python",
   "name": "python3"
  },
  "language_info": {
   "codemirror_mode": {
    "name": "ipython",
    "version": 3
   },
   "file_extension": ".py",
   "mimetype": "text/x-python",
   "name": "python",
   "nbconvert_exporter": "python",
   "pygments_lexer": "ipython3",
   "version": "3.7.4"
  }
 },
 "nbformat": 4,
 "nbformat_minor": 2
}
